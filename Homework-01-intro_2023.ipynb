{
 "cells": [
  {
   "cell_type": "code",
   "execution_count": 1,
   "id": "0909aa53",
   "metadata": {
    "ExecuteTime": {
     "end_time": "2023-09-18T19:31:54.891514Z",
     "start_time": "2023-09-18T19:31:54.525314Z"
    }
   },
   "outputs": [],
   "source": [
    "import pandas as pd\n",
    "import numpy as np"
   ]
  },
  {
   "cell_type": "markdown",
   "id": "9bf9ba77",
   "metadata": {},
   "source": [
    "## Homework\n",
    "\n",
    "### Set up the environment\n",
    "\n",
    "You need to install Python, NumPy, Pandas, Matplotlib and Seaborn. For that, you can the instructions from\n",
    "[06-environment.md](https://github.com/alexeygrigorev/mlbookcamp-code/blob/master/course-zoomcamp/01-intro/06-environment.md).\n"
   ]
  },
  {
   "cell_type": "markdown",
   "id": "a16468ca",
   "metadata": {},
   "source": [
    "### Question 1\n",
    "\n",
    "What's the version of Pandas that you installed?\n",
    "\n",
    "You can get the version information using the `__version__` field:"
   ]
  },
  {
   "cell_type": "code",
   "execution_count": 2,
   "id": "827f276e",
   "metadata": {
    "ExecuteTime": {
     "end_time": "2023-09-18T19:31:54.901848Z",
     "start_time": "2023-09-18T19:31:54.892506Z"
    }
   },
   "outputs": [
    {
     "data": {
      "text/plain": [
       "'2.0.3'"
      ]
     },
     "execution_count": 2,
     "metadata": {},
     "output_type": "execute_result"
    }
   ],
   "source": [
    "pd.__version__"
   ]
  },
  {
   "cell_type": "markdown",
   "id": "73f09bc0",
   "metadata": {},
   "source": [
    "### Getting the data \n",
    "\n",
    "For this homework, we'll use the California Housing Prices dataset. Download it from \n",
    "[here](https://raw.githubusercontent.com/alexeygrigorev/datasets/master/housing.csv).\n",
    "\n",
    "You can do it with wget:\n",
    "\n",
    "```bash\n",
    "wget https://raw.githubusercontent.com/alexeygrigorev/datasets/master/housing.csv\n",
    "```\n",
    "\n",
    "Or just open it with your browser and click \"Save as...\".\n",
    "\n",
    "Now read it with Pandas."
   ]
  },
  {
   "cell_type": "code",
   "execution_count": 3,
   "id": "4fb6e60c",
   "metadata": {
    "ExecuteTime": {
     "end_time": "2023-09-18T19:31:55.694299Z",
     "start_time": "2023-09-18T19:31:54.903624Z"
    }
   },
   "outputs": [
    {
     "data": {
      "text/html": [
       "<div>\n",
       "<style scoped>\n",
       "    .dataframe tbody tr th:only-of-type {\n",
       "        vertical-align: middle;\n",
       "    }\n",
       "\n",
       "    .dataframe tbody tr th {\n",
       "        vertical-align: top;\n",
       "    }\n",
       "\n",
       "    .dataframe thead th {\n",
       "        text-align: right;\n",
       "    }\n",
       "</style>\n",
       "<table border=\"1\" class=\"dataframe\">\n",
       "  <thead>\n",
       "    <tr style=\"text-align: right;\">\n",
       "      <th></th>\n",
       "      <th>longitude</th>\n",
       "      <th>latitude</th>\n",
       "      <th>housing_median_age</th>\n",
       "      <th>total_rooms</th>\n",
       "      <th>total_bedrooms</th>\n",
       "      <th>population</th>\n",
       "      <th>households</th>\n",
       "      <th>median_income</th>\n",
       "      <th>median_house_value</th>\n",
       "      <th>ocean_proximity</th>\n",
       "    </tr>\n",
       "  </thead>\n",
       "  <tbody>\n",
       "    <tr>\n",
       "      <th>0</th>\n",
       "      <td>-122.23</td>\n",
       "      <td>37.88</td>\n",
       "      <td>41.0</td>\n",
       "      <td>880.0</td>\n",
       "      <td>129.0</td>\n",
       "      <td>322.0</td>\n",
       "      <td>126.0</td>\n",
       "      <td>8.3252</td>\n",
       "      <td>452600.0</td>\n",
       "      <td>NEAR BAY</td>\n",
       "    </tr>\n",
       "    <tr>\n",
       "      <th>1</th>\n",
       "      <td>-122.22</td>\n",
       "      <td>37.86</td>\n",
       "      <td>21.0</td>\n",
       "      <td>7099.0</td>\n",
       "      <td>1106.0</td>\n",
       "      <td>2401.0</td>\n",
       "      <td>1138.0</td>\n",
       "      <td>8.3014</td>\n",
       "      <td>358500.0</td>\n",
       "      <td>NEAR BAY</td>\n",
       "    </tr>\n",
       "    <tr>\n",
       "      <th>2</th>\n",
       "      <td>-122.24</td>\n",
       "      <td>37.85</td>\n",
       "      <td>52.0</td>\n",
       "      <td>1467.0</td>\n",
       "      <td>190.0</td>\n",
       "      <td>496.0</td>\n",
       "      <td>177.0</td>\n",
       "      <td>7.2574</td>\n",
       "      <td>352100.0</td>\n",
       "      <td>NEAR BAY</td>\n",
       "    </tr>\n",
       "    <tr>\n",
       "      <th>3</th>\n",
       "      <td>-122.25</td>\n",
       "      <td>37.85</td>\n",
       "      <td>52.0</td>\n",
       "      <td>1274.0</td>\n",
       "      <td>235.0</td>\n",
       "      <td>558.0</td>\n",
       "      <td>219.0</td>\n",
       "      <td>5.6431</td>\n",
       "      <td>341300.0</td>\n",
       "      <td>NEAR BAY</td>\n",
       "    </tr>\n",
       "    <tr>\n",
       "      <th>4</th>\n",
       "      <td>-122.25</td>\n",
       "      <td>37.85</td>\n",
       "      <td>52.0</td>\n",
       "      <td>1627.0</td>\n",
       "      <td>280.0</td>\n",
       "      <td>565.0</td>\n",
       "      <td>259.0</td>\n",
       "      <td>3.8462</td>\n",
       "      <td>342200.0</td>\n",
       "      <td>NEAR BAY</td>\n",
       "    </tr>\n",
       "    <tr>\n",
       "      <th>...</th>\n",
       "      <td>...</td>\n",
       "      <td>...</td>\n",
       "      <td>...</td>\n",
       "      <td>...</td>\n",
       "      <td>...</td>\n",
       "      <td>...</td>\n",
       "      <td>...</td>\n",
       "      <td>...</td>\n",
       "      <td>...</td>\n",
       "      <td>...</td>\n",
       "    </tr>\n",
       "    <tr>\n",
       "      <th>20635</th>\n",
       "      <td>-121.09</td>\n",
       "      <td>39.48</td>\n",
       "      <td>25.0</td>\n",
       "      <td>1665.0</td>\n",
       "      <td>374.0</td>\n",
       "      <td>845.0</td>\n",
       "      <td>330.0</td>\n",
       "      <td>1.5603</td>\n",
       "      <td>78100.0</td>\n",
       "      <td>INLAND</td>\n",
       "    </tr>\n",
       "    <tr>\n",
       "      <th>20636</th>\n",
       "      <td>-121.21</td>\n",
       "      <td>39.49</td>\n",
       "      <td>18.0</td>\n",
       "      <td>697.0</td>\n",
       "      <td>150.0</td>\n",
       "      <td>356.0</td>\n",
       "      <td>114.0</td>\n",
       "      <td>2.5568</td>\n",
       "      <td>77100.0</td>\n",
       "      <td>INLAND</td>\n",
       "    </tr>\n",
       "    <tr>\n",
       "      <th>20637</th>\n",
       "      <td>-121.22</td>\n",
       "      <td>39.43</td>\n",
       "      <td>17.0</td>\n",
       "      <td>2254.0</td>\n",
       "      <td>485.0</td>\n",
       "      <td>1007.0</td>\n",
       "      <td>433.0</td>\n",
       "      <td>1.7000</td>\n",
       "      <td>92300.0</td>\n",
       "      <td>INLAND</td>\n",
       "    </tr>\n",
       "    <tr>\n",
       "      <th>20638</th>\n",
       "      <td>-121.32</td>\n",
       "      <td>39.43</td>\n",
       "      <td>18.0</td>\n",
       "      <td>1860.0</td>\n",
       "      <td>409.0</td>\n",
       "      <td>741.0</td>\n",
       "      <td>349.0</td>\n",
       "      <td>1.8672</td>\n",
       "      <td>84700.0</td>\n",
       "      <td>INLAND</td>\n",
       "    </tr>\n",
       "    <tr>\n",
       "      <th>20639</th>\n",
       "      <td>-121.24</td>\n",
       "      <td>39.37</td>\n",
       "      <td>16.0</td>\n",
       "      <td>2785.0</td>\n",
       "      <td>616.0</td>\n",
       "      <td>1387.0</td>\n",
       "      <td>530.0</td>\n",
       "      <td>2.3886</td>\n",
       "      <td>89400.0</td>\n",
       "      <td>INLAND</td>\n",
       "    </tr>\n",
       "  </tbody>\n",
       "</table>\n",
       "<p>20640 rows × 10 columns</p>\n",
       "</div>"
      ],
      "text/plain": [
       "       longitude  latitude  housing_median_age  total_rooms  total_bedrooms  \\\n",
       "0        -122.23     37.88                41.0        880.0           129.0   \n",
       "1        -122.22     37.86                21.0       7099.0          1106.0   \n",
       "2        -122.24     37.85                52.0       1467.0           190.0   \n",
       "3        -122.25     37.85                52.0       1274.0           235.0   \n",
       "4        -122.25     37.85                52.0       1627.0           280.0   \n",
       "...          ...       ...                 ...          ...             ...   \n",
       "20635    -121.09     39.48                25.0       1665.0           374.0   \n",
       "20636    -121.21     39.49                18.0        697.0           150.0   \n",
       "20637    -121.22     39.43                17.0       2254.0           485.0   \n",
       "20638    -121.32     39.43                18.0       1860.0           409.0   \n",
       "20639    -121.24     39.37                16.0       2785.0           616.0   \n",
       "\n",
       "       population  households  median_income  median_house_value  \\\n",
       "0           322.0       126.0         8.3252            452600.0   \n",
       "1          2401.0      1138.0         8.3014            358500.0   \n",
       "2           496.0       177.0         7.2574            352100.0   \n",
       "3           558.0       219.0         5.6431            341300.0   \n",
       "4           565.0       259.0         3.8462            342200.0   \n",
       "...           ...         ...            ...                 ...   \n",
       "20635       845.0       330.0         1.5603             78100.0   \n",
       "20636       356.0       114.0         2.5568             77100.0   \n",
       "20637      1007.0       433.0         1.7000             92300.0   \n",
       "20638       741.0       349.0         1.8672             84700.0   \n",
       "20639      1387.0       530.0         2.3886             89400.0   \n",
       "\n",
       "      ocean_proximity  \n",
       "0            NEAR BAY  \n",
       "1            NEAR BAY  \n",
       "2            NEAR BAY  \n",
       "3            NEAR BAY  \n",
       "4            NEAR BAY  \n",
       "...               ...  \n",
       "20635          INLAND  \n",
       "20636          INLAND  \n",
       "20637          INLAND  \n",
       "20638          INLAND  \n",
       "20639          INLAND  \n",
       "\n",
       "[20640 rows x 10 columns]"
      ]
     },
     "execution_count": 3,
     "metadata": {},
     "output_type": "execute_result"
    }
   ],
   "source": [
    "url = 'https://raw.githubusercontent.com/alexeygrigorev/datasets/master/housing.csv'\n",
    "df = pd.read_csv(url)\n",
    "df"
   ]
  },
  {
   "cell_type": "markdown",
   "id": "4c95ac5c",
   "metadata": {},
   "source": [
    "### Question 2\n",
    "\n",
    "How many columns are in the dataset?\n",
    "\n",
    "- 10\n",
    "- 6560\n",
    "- 10989\n",
    "- 20640"
   ]
  },
  {
   "cell_type": "code",
   "execution_count": 4,
   "id": "0ee47ad2",
   "metadata": {
    "ExecuteTime": {
     "end_time": "2023-09-18T19:31:55.702050Z",
     "start_time": "2023-09-18T19:31:55.695303Z"
    }
   },
   "outputs": [
    {
     "name": "stdout",
     "output_type": "stream",
     "text": [
      "No of columns in the dataset: 10\n"
     ]
    }
   ],
   "source": [
    "print(f'No of columns in the dataset: {len(df.columns.to_list())}')"
   ]
  },
  {
   "cell_type": "markdown",
   "id": "c7e62f75",
   "metadata": {
    "ExecuteTime": {
     "end_time": "2023-09-18T18:41:13.019180Z",
     "start_time": "2023-09-18T18:41:12.996921Z"
    }
   },
   "source": [
    "**Answer Question 2** : *10* "
   ]
  },
  {
   "cell_type": "markdown",
   "id": "81d38e9b",
   "metadata": {},
   "source": [
    "### Question 3\n",
    "\n",
    "Which columns in the dataset have missing values?\n",
    "\n",
    "- `total_rooms`\n",
    "- `total_bedrooms`\n",
    "- both of the above\n",
    "- no empty columns in the dataset"
   ]
  },
  {
   "cell_type": "code",
   "execution_count": 5,
   "id": "ec91431c",
   "metadata": {
    "ExecuteTime": {
     "end_time": "2023-09-18T19:31:55.722089Z",
     "start_time": "2023-09-18T19:31:55.703074Z"
    }
   },
   "outputs": [],
   "source": [
    "df_missing = df.isna().sum().to_frame()"
   ]
  },
  {
   "cell_type": "code",
   "execution_count": 6,
   "id": "1cafc6be",
   "metadata": {
    "ExecuteTime": {
     "end_time": "2023-09-18T19:31:55.730592Z",
     "start_time": "2023-09-18T19:31:55.722089Z"
    }
   },
   "outputs": [],
   "source": [
    "df_missing.rename(columns={0 : 'missing_vals'}, inplace=True)"
   ]
  },
  {
   "cell_type": "code",
   "execution_count": 7,
   "id": "d93a162a",
   "metadata": {
    "ExecuteTime": {
     "end_time": "2023-09-18T19:31:55.737948Z",
     "start_time": "2023-09-18T19:31:55.730592Z"
    }
   },
   "outputs": [
    {
     "data": {
      "text/plain": [
       "Index(['total_bedrooms'], dtype='object')"
      ]
     },
     "execution_count": 7,
     "metadata": {},
     "output_type": "execute_result"
    }
   ],
   "source": [
    "df_missing[df_missing['missing_vals'] >0].index"
   ]
  },
  {
   "cell_type": "markdown",
   "id": "a6721c16",
   "metadata": {},
   "source": [
    "**Answer Question 3** : *total_bedrooms*"
   ]
  },
  {
   "cell_type": "markdown",
   "id": "96b8b980",
   "metadata": {},
   "source": [
    "### Question 4\n",
    "\n",
    "How many unique values does the `ocean_proximity` column have?\n",
    "\n",
    "- 3\n",
    "- 5\n",
    "- 7\n",
    "- 9"
   ]
  },
  {
   "cell_type": "code",
   "execution_count": 8,
   "id": "4656ef5b",
   "metadata": {
    "ExecuteTime": {
     "end_time": "2023-09-18T19:31:55.747851Z",
     "start_time": "2023-09-18T19:31:55.737948Z"
    }
   },
   "outputs": [
    {
     "data": {
      "text/plain": [
       "5"
      ]
     },
     "execution_count": 8,
     "metadata": {},
     "output_type": "execute_result"
    }
   ],
   "source": [
    "len(df.ocean_proximity.value_counts().index.to_list())"
   ]
  },
  {
   "cell_type": "markdown",
   "id": "c08cc1f6",
   "metadata": {
    "ExecuteTime": {
     "end_time": "2023-09-18T18:44:28.379962Z",
     "start_time": "2023-09-18T18:44:28.369539Z"
    }
   },
   "source": [
    "**Answer Question 4** : *5*"
   ]
  },
  {
   "cell_type": "markdown",
   "id": "c2beabbd",
   "metadata": {},
   "source": [
    "### Question 5\n",
    "\n",
    "What's the average value of the `median_house_value` for the houses located near the bay?\n",
    "\n",
    "- 49433\n",
    "- 124805\n",
    "- 259212\n",
    "- 380440"
   ]
  },
  {
   "cell_type": "code",
   "execution_count": 9,
   "id": "f88e7ebb",
   "metadata": {
    "ExecuteTime": {
     "end_time": "2023-09-18T19:31:55.758111Z",
     "start_time": "2023-09-18T19:31:55.750281Z"
    }
   },
   "outputs": [
    {
     "data": {
      "text/plain": [
       "259212.0"
      ]
     },
     "execution_count": 9,
     "metadata": {},
     "output_type": "execute_result"
    }
   ],
   "source": [
    "round(df[df.ocean_proximity == 'NEAR BAY']['median_house_value'].mean(),0)"
   ]
  },
  {
   "cell_type": "markdown",
   "id": "d59c2ee8",
   "metadata": {
    "ExecuteTime": {
     "end_time": "2023-09-18T18:49:41.379804Z",
     "start_time": "2023-09-18T18:49:41.367280Z"
    }
   },
   "source": [
    "**Answer Question 3** : *259212*"
   ]
  },
  {
   "cell_type": "markdown",
   "id": "7f71ef79",
   "metadata": {},
   "source": [
    "### Question 6\n",
    "\n",
    "1. Calculate the average of `total_bedrooms` column in the dataset.\n",
    "2. Use the `fillna` method to fill the missing values in `total_bedrooms` with the mean value from the previous step.\n",
    "3. Now, calculate the average of `total_bedrooms` again.\n",
    "4. Has it changed?\n",
    "\n",
    "Has it changed?\n",
    "\n",
    "> Hint: take into account only 3 digits after the decimal point.\n",
    "\n",
    "- Yes\n",
    "- No\n"
   ]
  },
  {
   "cell_type": "code",
   "execution_count": 10,
   "id": "4f84fab3",
   "metadata": {
    "ExecuteTime": {
     "end_time": "2023-09-18T19:31:55.767928Z",
     "start_time": "2023-09-18T19:31:55.758111Z"
    }
   },
   "outputs": [
    {
     "data": {
      "text/plain": [
       "537.871"
      ]
     },
     "execution_count": 10,
     "metadata": {},
     "output_type": "execute_result"
    }
   ],
   "source": [
    "avg_total_bedrooms = round(df['total_bedrooms'].mean(), 3)\n",
    "avg_total_bedrooms"
   ]
  },
  {
   "cell_type": "code",
   "execution_count": 11,
   "id": "ae472d21",
   "metadata": {
    "ExecuteTime": {
     "end_time": "2023-09-18T19:31:55.778959Z",
     "start_time": "2023-09-18T19:31:55.769113Z"
    }
   },
   "outputs": [],
   "source": [
    "df['total_bedrooms'].fillna(value=avg_total_bedrooms, inplace=True)\n"
   ]
  },
  {
   "cell_type": "code",
   "execution_count": 12,
   "id": "a67a17d6",
   "metadata": {
    "ExecuteTime": {
     "end_time": "2023-09-18T19:31:55.795167Z",
     "start_time": "2023-09-18T19:31:55.778959Z"
    },
    "scrolled": true
   },
   "outputs": [
    {
     "data": {
      "text/plain": [
       "0"
      ]
     },
     "execution_count": 12,
     "metadata": {},
     "output_type": "execute_result"
    }
   ],
   "source": [
    "df['total_bedrooms'].isna().sum()"
   ]
  },
  {
   "cell_type": "code",
   "execution_count": 13,
   "id": "e0064a27",
   "metadata": {
    "ExecuteTime": {
     "end_time": "2023-09-18T19:31:55.808955Z",
     "start_time": "2023-09-18T19:31:55.796833Z"
    }
   },
   "outputs": [
    {
     "data": {
      "text/plain": [
       "537.871"
      ]
     },
     "execution_count": 13,
     "metadata": {},
     "output_type": "execute_result"
    }
   ],
   "source": [
    "new_avg_total_bedrooms = round(df['total_bedrooms'].mean(), 3)\n",
    "new_avg_total_bedrooms"
   ]
  },
  {
   "cell_type": "markdown",
   "id": "42f564fe",
   "metadata": {
    "ExecuteTime": {
     "end_time": "2023-09-18T18:58:32.808124Z",
     "start_time": "2023-09-18T18:58:32.794303Z"
    }
   },
   "source": [
    "**Answer Question 6** : *No*"
   ]
  },
  {
   "cell_type": "markdown",
   "id": "c7425b64",
   "metadata": {},
   "source": [
    "\n",
    "### Question 7\n",
    "\n",
    "1. Select all the options located on islands.\n",
    "2. Select only columns `housing_median_age`, `total_rooms`, `total_bedrooms`.\n",
    "3. Get the underlying NumPy array. Let's call it `X`.\n",
    "4. Compute matrix-matrix multiplication between the transpose of `X` and `X`. To get the transpose, use `X.T`. Let's call the result `XTX`.\n",
    "5. Compute the inverse of `XTX`.\n",
    "6. Create an array `y` with values `[950, 1300, 800, 1000, 1300]`.\n",
    "7. Multiply the inverse of `XTX` with the transpose of `X`, and then multiply the result by `y`. Call the result `w`.\n",
    "8. What's the value of the last element of `w`?\n",
    "\n",
    "> **Note**: You just implemented linear regression. We'll talk about it in the next lesson.\n",
    "\n",
    "- -1.4812\n",
    "- 0.001\n",
    "- 5.6992\n",
    "- 23.1233\n"
   ]
  },
  {
   "cell_type": "markdown",
   "id": "8309b21b",
   "metadata": {
    "ExecuteTime": {
     "end_time": "2023-09-18T19:26:22.616321Z",
     "start_time": "2023-09-18T19:26:22.610799Z"
    }
   },
   "source": [
    "#### Question 7 - *Point 1*"
   ]
  },
  {
   "cell_type": "code",
   "execution_count": 14,
   "id": "0aa1e5ce",
   "metadata": {
    "ExecuteTime": {
     "end_time": "2023-09-18T19:31:55.824628Z",
     "start_time": "2023-09-18T19:31:55.810699Z"
    }
   },
   "outputs": [
    {
     "data": {
      "text/html": [
       "<div>\n",
       "<style scoped>\n",
       "    .dataframe tbody tr th:only-of-type {\n",
       "        vertical-align: middle;\n",
       "    }\n",
       "\n",
       "    .dataframe tbody tr th {\n",
       "        vertical-align: top;\n",
       "    }\n",
       "\n",
       "    .dataframe thead th {\n",
       "        text-align: right;\n",
       "    }\n",
       "</style>\n",
       "<table border=\"1\" class=\"dataframe\">\n",
       "  <thead>\n",
       "    <tr style=\"text-align: right;\">\n",
       "      <th></th>\n",
       "      <th>longitude</th>\n",
       "      <th>latitude</th>\n",
       "      <th>housing_median_age</th>\n",
       "      <th>total_rooms</th>\n",
       "      <th>total_bedrooms</th>\n",
       "      <th>population</th>\n",
       "      <th>households</th>\n",
       "      <th>median_income</th>\n",
       "      <th>median_house_value</th>\n",
       "      <th>ocean_proximity</th>\n",
       "    </tr>\n",
       "  </thead>\n",
       "  <tbody>\n",
       "    <tr>\n",
       "      <th>8314</th>\n",
       "      <td>-118.32</td>\n",
       "      <td>33.35</td>\n",
       "      <td>27.0</td>\n",
       "      <td>1675.0</td>\n",
       "      <td>521.0</td>\n",
       "      <td>744.0</td>\n",
       "      <td>331.0</td>\n",
       "      <td>2.1579</td>\n",
       "      <td>450000.0</td>\n",
       "      <td>ISLAND</td>\n",
       "    </tr>\n",
       "    <tr>\n",
       "      <th>8315</th>\n",
       "      <td>-118.33</td>\n",
       "      <td>33.34</td>\n",
       "      <td>52.0</td>\n",
       "      <td>2359.0</td>\n",
       "      <td>591.0</td>\n",
       "      <td>1100.0</td>\n",
       "      <td>431.0</td>\n",
       "      <td>2.8333</td>\n",
       "      <td>414700.0</td>\n",
       "      <td>ISLAND</td>\n",
       "    </tr>\n",
       "    <tr>\n",
       "      <th>8316</th>\n",
       "      <td>-118.32</td>\n",
       "      <td>33.33</td>\n",
       "      <td>52.0</td>\n",
       "      <td>2127.0</td>\n",
       "      <td>512.0</td>\n",
       "      <td>733.0</td>\n",
       "      <td>288.0</td>\n",
       "      <td>3.3906</td>\n",
       "      <td>300000.0</td>\n",
       "      <td>ISLAND</td>\n",
       "    </tr>\n",
       "    <tr>\n",
       "      <th>8317</th>\n",
       "      <td>-118.32</td>\n",
       "      <td>33.34</td>\n",
       "      <td>52.0</td>\n",
       "      <td>996.0</td>\n",
       "      <td>264.0</td>\n",
       "      <td>341.0</td>\n",
       "      <td>160.0</td>\n",
       "      <td>2.7361</td>\n",
       "      <td>450000.0</td>\n",
       "      <td>ISLAND</td>\n",
       "    </tr>\n",
       "    <tr>\n",
       "      <th>8318</th>\n",
       "      <td>-118.48</td>\n",
       "      <td>33.43</td>\n",
       "      <td>29.0</td>\n",
       "      <td>716.0</td>\n",
       "      <td>214.0</td>\n",
       "      <td>422.0</td>\n",
       "      <td>173.0</td>\n",
       "      <td>2.6042</td>\n",
       "      <td>287500.0</td>\n",
       "      <td>ISLAND</td>\n",
       "    </tr>\n",
       "  </tbody>\n",
       "</table>\n",
       "</div>"
      ],
      "text/plain": [
       "      longitude  latitude  housing_median_age  total_rooms  total_bedrooms  \\\n",
       "8314    -118.32     33.35                27.0       1675.0           521.0   \n",
       "8315    -118.33     33.34                52.0       2359.0           591.0   \n",
       "8316    -118.32     33.33                52.0       2127.0           512.0   \n",
       "8317    -118.32     33.34                52.0        996.0           264.0   \n",
       "8318    -118.48     33.43                29.0        716.0           214.0   \n",
       "\n",
       "      population  households  median_income  median_house_value  \\\n",
       "8314       744.0       331.0         2.1579            450000.0   \n",
       "8315      1100.0       431.0         2.8333            414700.0   \n",
       "8316       733.0       288.0         3.3906            300000.0   \n",
       "8317       341.0       160.0         2.7361            450000.0   \n",
       "8318       422.0       173.0         2.6042            287500.0   \n",
       "\n",
       "     ocean_proximity  \n",
       "8314          ISLAND  \n",
       "8315          ISLAND  \n",
       "8316          ISLAND  \n",
       "8317          ISLAND  \n",
       "8318          ISLAND  "
      ]
     },
     "execution_count": 14,
     "metadata": {},
     "output_type": "execute_result"
    }
   ],
   "source": [
    "df[df.ocean_proximity == 'ISLAND']"
   ]
  },
  {
   "cell_type": "markdown",
   "id": "cd738420",
   "metadata": {
    "ExecuteTime": {
     "end_time": "2023-09-18T19:26:22.616321Z",
     "start_time": "2023-09-18T19:26:22.610799Z"
    }
   },
   "source": [
    "#### Question 7 - *Point 2*"
   ]
  },
  {
   "cell_type": "code",
   "execution_count": 15,
   "id": "a225ea15",
   "metadata": {
    "ExecuteTime": {
     "end_time": "2023-09-18T19:31:55.845596Z",
     "start_time": "2023-09-18T19:31:55.825662Z"
    }
   },
   "outputs": [
    {
     "data": {
      "text/html": [
       "<div>\n",
       "<style scoped>\n",
       "    .dataframe tbody tr th:only-of-type {\n",
       "        vertical-align: middle;\n",
       "    }\n",
       "\n",
       "    .dataframe tbody tr th {\n",
       "        vertical-align: top;\n",
       "    }\n",
       "\n",
       "    .dataframe thead th {\n",
       "        text-align: right;\n",
       "    }\n",
       "</style>\n",
       "<table border=\"1\" class=\"dataframe\">\n",
       "  <thead>\n",
       "    <tr style=\"text-align: right;\">\n",
       "      <th></th>\n",
       "      <th>housing_median_age</th>\n",
       "      <th>total_rooms</th>\n",
       "      <th>total_bedrooms</th>\n",
       "    </tr>\n",
       "  </thead>\n",
       "  <tbody>\n",
       "    <tr>\n",
       "      <th>8314</th>\n",
       "      <td>27.0</td>\n",
       "      <td>1675.0</td>\n",
       "      <td>521.0</td>\n",
       "    </tr>\n",
       "    <tr>\n",
       "      <th>8315</th>\n",
       "      <td>52.0</td>\n",
       "      <td>2359.0</td>\n",
       "      <td>591.0</td>\n",
       "    </tr>\n",
       "    <tr>\n",
       "      <th>8316</th>\n",
       "      <td>52.0</td>\n",
       "      <td>2127.0</td>\n",
       "      <td>512.0</td>\n",
       "    </tr>\n",
       "    <tr>\n",
       "      <th>8317</th>\n",
       "      <td>52.0</td>\n",
       "      <td>996.0</td>\n",
       "      <td>264.0</td>\n",
       "    </tr>\n",
       "    <tr>\n",
       "      <th>8318</th>\n",
       "      <td>29.0</td>\n",
       "      <td>716.0</td>\n",
       "      <td>214.0</td>\n",
       "    </tr>\n",
       "  </tbody>\n",
       "</table>\n",
       "</div>"
      ],
      "text/plain": [
       "      housing_median_age  total_rooms  total_bedrooms\n",
       "8314                27.0       1675.0           521.0\n",
       "8315                52.0       2359.0           591.0\n",
       "8316                52.0       2127.0           512.0\n",
       "8317                52.0        996.0           264.0\n",
       "8318                29.0        716.0           214.0"
      ]
     },
     "execution_count": 15,
     "metadata": {},
     "output_type": "execute_result"
    }
   ],
   "source": [
    "island_df = df[df.ocean_proximity == 'ISLAND'][['housing_median_age', 'total_rooms', 'total_bedrooms']]\n",
    "island_df"
   ]
  },
  {
   "cell_type": "markdown",
   "id": "74545c23",
   "metadata": {},
   "source": [
    "#### Question 7 - *Point 3*"
   ]
  },
  {
   "cell_type": "code",
   "execution_count": 16,
   "id": "e01d03af",
   "metadata": {
    "ExecuteTime": {
     "end_time": "2023-09-18T19:31:55.852403Z",
     "start_time": "2023-09-18T19:31:55.847702Z"
    }
   },
   "outputs": [
    {
     "data": {
      "text/plain": [
       "array([[  27., 1675.,  521.],\n",
       "       [  52., 2359.,  591.],\n",
       "       [  52., 2127.,  512.],\n",
       "       [  52.,  996.,  264.],\n",
       "       [  29.,  716.,  214.]])"
      ]
     },
     "execution_count": 16,
     "metadata": {},
     "output_type": "execute_result"
    }
   ],
   "source": [
    "X = island_df.to_numpy()\n",
    "X"
   ]
  },
  {
   "cell_type": "markdown",
   "id": "dae4f188",
   "metadata": {
    "ExecuteTime": {
     "end_time": "2023-09-18T19:28:40.340040Z",
     "start_time": "2023-09-18T19:28:40.330121Z"
    }
   },
   "source": [
    "#### Question 7 - *Point 4*"
   ]
  },
  {
   "cell_type": "code",
   "execution_count": 17,
   "id": "b51728ec",
   "metadata": {
    "ExecuteTime": {
     "end_time": "2023-09-18T19:31:55.870934Z",
     "start_time": "2023-09-18T19:31:55.853452Z"
    }
   },
   "outputs": [
    {
     "data": {
      "text/plain": [
       "array([[9.6820000e+03, 3.5105300e+05, 9.1357000e+04],\n",
       "       [3.5105300e+05, 1.4399307e+07, 3.7720360e+06],\n",
       "       [9.1357000e+04, 3.7720360e+06, 9.9835800e+05]])"
      ]
     },
     "execution_count": 17,
     "metadata": {},
     "output_type": "execute_result"
    }
   ],
   "source": [
    "XTX= X.T.dot(X)\n",
    "XTX"
   ]
  },
  {
   "cell_type": "markdown",
   "id": "8545ff7e",
   "metadata": {},
   "source": [
    "#### Question 7 - *Point 5*"
   ]
  },
  {
   "cell_type": "code",
   "execution_count": 18,
   "id": "2d88f34b",
   "metadata": {
    "ExecuteTime": {
     "end_time": "2023-09-18T19:31:55.884309Z",
     "start_time": "2023-09-18T19:31:55.870934Z"
    }
   },
   "outputs": [
    {
     "data": {
      "text/plain": [
       "array([[ 9.19403586e-04, -3.66412216e-05,  5.43072261e-05],\n",
       "       [-3.66412216e-05,  8.23303633e-06, -2.77534485e-05],\n",
       "       [ 5.43072261e-05, -2.77534485e-05,  1.00891325e-04]])"
      ]
     },
     "execution_count": 18,
     "metadata": {},
     "output_type": "execute_result"
    }
   ],
   "source": [
    "inverse_XTX = np.linalg.inv(XTX)\n",
    "inverse_XTX"
   ]
  },
  {
   "cell_type": "markdown",
   "id": "451bf8cf",
   "metadata": {
    "ExecuteTime": {
     "end_time": "2023-09-18T19:30:33.951300Z",
     "start_time": "2023-09-18T19:30:33.943685Z"
    }
   },
   "source": [
    "#### Question 7 - *Point 6*"
   ]
  },
  {
   "cell_type": "code",
   "execution_count": 19,
   "id": "f1b863ba",
   "metadata": {
    "ExecuteTime": {
     "end_time": "2023-09-18T19:31:55.891302Z",
     "start_time": "2023-09-18T19:31:55.885326Z"
    }
   },
   "outputs": [
    {
     "data": {
      "text/plain": [
       "array([ 950, 1300,  800, 1000, 1300])"
      ]
     },
     "execution_count": 19,
     "metadata": {},
     "output_type": "execute_result"
    }
   ],
   "source": [
    "y = np.array([950, 1300, 800, 1000, 1300])\n",
    "y"
   ]
  },
  {
   "cell_type": "markdown",
   "id": "59d90eb6",
   "metadata": {},
   "source": [
    "#### Question 7 - *Point 7*"
   ]
  },
  {
   "cell_type": "code",
   "execution_count": 20,
   "id": "f1170220",
   "metadata": {
    "ExecuteTime": {
     "end_time": "2023-09-18T19:31:55.900224Z",
     "start_time": "2023-09-18T19:31:55.891302Z"
    }
   },
   "outputs": [],
   "source": [
    "inverse_XTX_XT = inverse_XTX.dot(X.T)"
   ]
  },
  {
   "cell_type": "markdown",
   "id": "672507bf",
   "metadata": {},
   "source": [
    "#### Question 7 - *Point 8*"
   ]
  },
  {
   "cell_type": "code",
   "execution_count": 21,
   "id": "fd1459ca",
   "metadata": {
    "ExecuteTime": {
     "end_time": "2023-09-18T19:31:55.912389Z",
     "start_time": "2023-09-18T19:31:55.901907Z"
    }
   },
   "outputs": [
    {
     "data": {
      "text/plain": [
       "array([23.12330961, -1.48124183,  5.69922946])"
      ]
     },
     "execution_count": 21,
     "metadata": {},
     "output_type": "execute_result"
    }
   ],
   "source": [
    "w = inverse_XTX_XT.dot(y)\n",
    "w"
   ]
  },
  {
   "cell_type": "code",
   "execution_count": 22,
   "id": "20214cd5",
   "metadata": {
    "ExecuteTime": {
     "end_time": "2023-09-18T19:31:55.919310Z",
     "start_time": "2023-09-18T19:31:55.912389Z"
    }
   },
   "outputs": [
    {
     "data": {
      "text/plain": [
       "5.6992"
      ]
     },
     "execution_count": 22,
     "metadata": {},
     "output_type": "execute_result"
    }
   ],
   "source": [
    "round(w[-1],4)"
   ]
  },
  {
   "cell_type": "markdown",
   "id": "47169558",
   "metadata": {
    "ExecuteTime": {
     "end_time": "2023-09-18T19:25:29.601582Z",
     "start_time": "2023-09-18T19:25:29.592056Z"
    }
   },
   "source": [
    "**Answer Question 7** : *5.6992*"
   ]
  }
 ],
 "metadata": {
  "kernelspec": {
   "display_name": "Python 3 (ipykernel)",
   "language": "python",
   "name": "python3"
  },
  "language_info": {
   "codemirror_mode": {
    "name": "ipython",
    "version": 3
   },
   "file_extension": ".py",
   "mimetype": "text/x-python",
   "name": "python",
   "nbconvert_exporter": "python",
   "pygments_lexer": "ipython3",
   "version": "3.9.18"
  },
  "toc": {
   "base_numbering": 1,
   "nav_menu": {},
   "number_sections": true,
   "sideBar": true,
   "skip_h1_title": false,
   "title_cell": "Table of Contents",
   "title_sidebar": "Contents",
   "toc_cell": false,
   "toc_position": {},
   "toc_section_display": true,
   "toc_window_display": false
  }
 },
 "nbformat": 4,
 "nbformat_minor": 5
}
