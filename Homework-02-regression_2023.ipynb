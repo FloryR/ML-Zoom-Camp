{
 "cells": [
  {
   "cell_type": "code",
   "execution_count": 1,
   "id": "a0be5e92",
   "metadata": {
    "ExecuteTime": {
     "end_time": "2023-09-25T19:57:11.305119Z",
     "start_time": "2023-09-25T19:57:10.639628Z"
    }
   },
   "outputs": [],
   "source": [
    "import pandas as pd\n",
    "import matplotlib.pyplot as plt\n",
    "import warnings\n",
    "warnings.filterwarnings('ignore')"
   ]
  },
  {
   "cell_type": "code",
   "execution_count": 2,
   "id": "9c3fec8a",
   "metadata": {
    "ExecuteTime": {
     "end_time": "2023-09-25T19:57:11.311269Z",
     "start_time": "2023-09-25T19:57:11.306747Z"
    }
   },
   "outputs": [],
   "source": [
    "import numpy as np"
   ]
  },
  {
   "cell_type": "markdown",
   "id": "55fb297c",
   "metadata": {
    "ExecuteTime": {
     "end_time": "2023-09-25T16:02:52.540746Z",
     "start_time": "2023-09-25T16:02:52.529605Z"
    }
   },
   "source": [
    "# Homework\n",
    "\n",
    "> Note: sometimes your answer doesn't match one of \n",
    "> the options exactly. That's fine. \n",
    "> Select the option that's closest to your solution."
   ]
  },
  {
   "cell_type": "markdown",
   "id": "56ddbbf2",
   "metadata": {},
   "source": [
    "## Dataset\n",
    "\n",
    "In this homework, we will use the California Housing Prices from [Kaggle](https://www.kaggle.com/datasets/camnugent/california-housing-prices).\n",
    "\n",
    "Here's a wget-able [link](https://raw.githubusercontent.com/alexeygrigorev/datasets/master/housing.csv):\n",
    "\n",
    "```bash\n",
    "wget https://raw.githubusercontent.com/alexeygrigorev/datasets/master/housing.csv\n",
    "```\n",
    "\n",
    "The goal of this homework is to create a regression model for predicting housing prices (column `'median_house_value'`)."
   ]
  },
  {
   "cell_type": "markdown",
   "id": "6b0a29ae",
   "metadata": {},
   "source": [
    "## EDA\n",
    "\n",
    "* Load the data.\n",
    "* Look at the `median_house_value` variable. Does it have a long tail? \n"
   ]
  },
  {
   "cell_type": "code",
   "execution_count": 3,
   "id": "916acb9e",
   "metadata": {
    "ExecuteTime": {
     "end_time": "2023-09-25T19:57:11.855691Z",
     "start_time": "2023-09-25T19:57:11.312356Z"
    }
   },
   "outputs": [
    {
     "data": {
      "text/html": [
       "<div>\n",
       "<style scoped>\n",
       "    .dataframe tbody tr th:only-of-type {\n",
       "        vertical-align: middle;\n",
       "    }\n",
       "\n",
       "    .dataframe tbody tr th {\n",
       "        vertical-align: top;\n",
       "    }\n",
       "\n",
       "    .dataframe thead th {\n",
       "        text-align: right;\n",
       "    }\n",
       "</style>\n",
       "<table border=\"1\" class=\"dataframe\">\n",
       "  <thead>\n",
       "    <tr style=\"text-align: right;\">\n",
       "      <th></th>\n",
       "      <th>longitude</th>\n",
       "      <th>latitude</th>\n",
       "      <th>housing_median_age</th>\n",
       "      <th>total_rooms</th>\n",
       "      <th>total_bedrooms</th>\n",
       "      <th>population</th>\n",
       "      <th>households</th>\n",
       "      <th>median_income</th>\n",
       "      <th>median_house_value</th>\n",
       "      <th>ocean_proximity</th>\n",
       "    </tr>\n",
       "  </thead>\n",
       "  <tbody>\n",
       "    <tr>\n",
       "      <th>0</th>\n",
       "      <td>-122.23</td>\n",
       "      <td>37.88</td>\n",
       "      <td>41.0</td>\n",
       "      <td>880.0</td>\n",
       "      <td>129.0</td>\n",
       "      <td>322.0</td>\n",
       "      <td>126.0</td>\n",
       "      <td>8.3252</td>\n",
       "      <td>452600.0</td>\n",
       "      <td>NEAR BAY</td>\n",
       "    </tr>\n",
       "    <tr>\n",
       "      <th>1</th>\n",
       "      <td>-122.22</td>\n",
       "      <td>37.86</td>\n",
       "      <td>21.0</td>\n",
       "      <td>7099.0</td>\n",
       "      <td>1106.0</td>\n",
       "      <td>2401.0</td>\n",
       "      <td>1138.0</td>\n",
       "      <td>8.3014</td>\n",
       "      <td>358500.0</td>\n",
       "      <td>NEAR BAY</td>\n",
       "    </tr>\n",
       "    <tr>\n",
       "      <th>2</th>\n",
       "      <td>-122.24</td>\n",
       "      <td>37.85</td>\n",
       "      <td>52.0</td>\n",
       "      <td>1467.0</td>\n",
       "      <td>190.0</td>\n",
       "      <td>496.0</td>\n",
       "      <td>177.0</td>\n",
       "      <td>7.2574</td>\n",
       "      <td>352100.0</td>\n",
       "      <td>NEAR BAY</td>\n",
       "    </tr>\n",
       "    <tr>\n",
       "      <th>3</th>\n",
       "      <td>-122.25</td>\n",
       "      <td>37.85</td>\n",
       "      <td>52.0</td>\n",
       "      <td>1274.0</td>\n",
       "      <td>235.0</td>\n",
       "      <td>558.0</td>\n",
       "      <td>219.0</td>\n",
       "      <td>5.6431</td>\n",
       "      <td>341300.0</td>\n",
       "      <td>NEAR BAY</td>\n",
       "    </tr>\n",
       "    <tr>\n",
       "      <th>4</th>\n",
       "      <td>-122.25</td>\n",
       "      <td>37.85</td>\n",
       "      <td>52.0</td>\n",
       "      <td>1627.0</td>\n",
       "      <td>280.0</td>\n",
       "      <td>565.0</td>\n",
       "      <td>259.0</td>\n",
       "      <td>3.8462</td>\n",
       "      <td>342200.0</td>\n",
       "      <td>NEAR BAY</td>\n",
       "    </tr>\n",
       "    <tr>\n",
       "      <th>...</th>\n",
       "      <td>...</td>\n",
       "      <td>...</td>\n",
       "      <td>...</td>\n",
       "      <td>...</td>\n",
       "      <td>...</td>\n",
       "      <td>...</td>\n",
       "      <td>...</td>\n",
       "      <td>...</td>\n",
       "      <td>...</td>\n",
       "      <td>...</td>\n",
       "    </tr>\n",
       "    <tr>\n",
       "      <th>20635</th>\n",
       "      <td>-121.09</td>\n",
       "      <td>39.48</td>\n",
       "      <td>25.0</td>\n",
       "      <td>1665.0</td>\n",
       "      <td>374.0</td>\n",
       "      <td>845.0</td>\n",
       "      <td>330.0</td>\n",
       "      <td>1.5603</td>\n",
       "      <td>78100.0</td>\n",
       "      <td>INLAND</td>\n",
       "    </tr>\n",
       "    <tr>\n",
       "      <th>20636</th>\n",
       "      <td>-121.21</td>\n",
       "      <td>39.49</td>\n",
       "      <td>18.0</td>\n",
       "      <td>697.0</td>\n",
       "      <td>150.0</td>\n",
       "      <td>356.0</td>\n",
       "      <td>114.0</td>\n",
       "      <td>2.5568</td>\n",
       "      <td>77100.0</td>\n",
       "      <td>INLAND</td>\n",
       "    </tr>\n",
       "    <tr>\n",
       "      <th>20637</th>\n",
       "      <td>-121.22</td>\n",
       "      <td>39.43</td>\n",
       "      <td>17.0</td>\n",
       "      <td>2254.0</td>\n",
       "      <td>485.0</td>\n",
       "      <td>1007.0</td>\n",
       "      <td>433.0</td>\n",
       "      <td>1.7000</td>\n",
       "      <td>92300.0</td>\n",
       "      <td>INLAND</td>\n",
       "    </tr>\n",
       "    <tr>\n",
       "      <th>20638</th>\n",
       "      <td>-121.32</td>\n",
       "      <td>39.43</td>\n",
       "      <td>18.0</td>\n",
       "      <td>1860.0</td>\n",
       "      <td>409.0</td>\n",
       "      <td>741.0</td>\n",
       "      <td>349.0</td>\n",
       "      <td>1.8672</td>\n",
       "      <td>84700.0</td>\n",
       "      <td>INLAND</td>\n",
       "    </tr>\n",
       "    <tr>\n",
       "      <th>20639</th>\n",
       "      <td>-121.24</td>\n",
       "      <td>39.37</td>\n",
       "      <td>16.0</td>\n",
       "      <td>2785.0</td>\n",
       "      <td>616.0</td>\n",
       "      <td>1387.0</td>\n",
       "      <td>530.0</td>\n",
       "      <td>2.3886</td>\n",
       "      <td>89400.0</td>\n",
       "      <td>INLAND</td>\n",
       "    </tr>\n",
       "  </tbody>\n",
       "</table>\n",
       "<p>20640 rows × 10 columns</p>\n",
       "</div>"
      ],
      "text/plain": [
       "       longitude  latitude  housing_median_age  total_rooms  total_bedrooms  \\\n",
       "0        -122.23     37.88                41.0        880.0           129.0   \n",
       "1        -122.22     37.86                21.0       7099.0          1106.0   \n",
       "2        -122.24     37.85                52.0       1467.0           190.0   \n",
       "3        -122.25     37.85                52.0       1274.0           235.0   \n",
       "4        -122.25     37.85                52.0       1627.0           280.0   \n",
       "...          ...       ...                 ...          ...             ...   \n",
       "20635    -121.09     39.48                25.0       1665.0           374.0   \n",
       "20636    -121.21     39.49                18.0        697.0           150.0   \n",
       "20637    -121.22     39.43                17.0       2254.0           485.0   \n",
       "20638    -121.32     39.43                18.0       1860.0           409.0   \n",
       "20639    -121.24     39.37                16.0       2785.0           616.0   \n",
       "\n",
       "       population  households  median_income  median_house_value  \\\n",
       "0           322.0       126.0         8.3252            452600.0   \n",
       "1          2401.0      1138.0         8.3014            358500.0   \n",
       "2           496.0       177.0         7.2574            352100.0   \n",
       "3           558.0       219.0         5.6431            341300.0   \n",
       "4           565.0       259.0         3.8462            342200.0   \n",
       "...           ...         ...            ...                 ...   \n",
       "20635       845.0       330.0         1.5603             78100.0   \n",
       "20636       356.0       114.0         2.5568             77100.0   \n",
       "20637      1007.0       433.0         1.7000             92300.0   \n",
       "20638       741.0       349.0         1.8672             84700.0   \n",
       "20639      1387.0       530.0         2.3886             89400.0   \n",
       "\n",
       "      ocean_proximity  \n",
       "0            NEAR BAY  \n",
       "1            NEAR BAY  \n",
       "2            NEAR BAY  \n",
       "3            NEAR BAY  \n",
       "4            NEAR BAY  \n",
       "...               ...  \n",
       "20635          INLAND  \n",
       "20636          INLAND  \n",
       "20637          INLAND  \n",
       "20638          INLAND  \n",
       "20639          INLAND  \n",
       "\n",
       "[20640 rows x 10 columns]"
      ]
     },
     "execution_count": 3,
     "metadata": {},
     "output_type": "execute_result"
    }
   ],
   "source": [
    "url = 'https://raw.githubusercontent.com/alexeygrigorev/datasets/master/housing.csv'\n",
    "df = pd.read_csv(url)\n",
    "df"
   ]
  },
  {
   "cell_type": "code",
   "execution_count": 4,
   "id": "3fb0456f",
   "metadata": {
    "ExecuteTime": {
     "end_time": "2023-09-25T19:57:11.865224Z",
     "start_time": "2023-09-25T19:57:11.857709Z"
    }
   },
   "outputs": [
    {
     "data": {
      "text/plain": [
       "count     20640.000000\n",
       "mean     206855.816909\n",
       "std      115395.615874\n",
       "min       14999.000000\n",
       "25%      119600.000000\n",
       "50%      179700.000000\n",
       "75%      264725.000000\n",
       "max      500001.000000\n",
       "Name: median_house_value, dtype: float64"
      ]
     },
     "execution_count": 4,
     "metadata": {},
     "output_type": "execute_result"
    }
   ],
   "source": [
    "df['median_house_value'].describe()"
   ]
  },
  {
   "cell_type": "code",
   "execution_count": 5,
   "id": "4e640862",
   "metadata": {
    "ExecuteTime": {
     "end_time": "2023-09-25T19:57:12.042042Z",
     "start_time": "2023-09-25T19:57:11.865895Z"
    }
   },
   "outputs": [
    {
     "data": {
      "image/png": "[encoded data removed]",
      "text/plain": [
       "<Figure size 640x480 with 1 Axes>"
      ]
     },
     "metadata": {},
     "output_type": "display_data"
    }
   ],
   "source": [
    "\n",
    "df['median_house_value'].plot(kind='hist', bins=50);"
   ]
  },
  {
   "cell_type": "markdown",
   "id": "5f23ae38",
   "metadata": {},
   "source": [
    "## Preparing the dataset \n",
    "\n",
    "For this homework, we only want to use a subset of data. \n",
    "\n",
    "First, keep only the records where `ocean_proximity` is either `'<1H OCEAN'` or `'INLAND'`\n",
    "\n",
    "Next, use only the following columns:\n",
    "\n",
    "* `'latitude'`,\n",
    "* `'longitude'`,\n",
    "* `'housing_median_age'`,\n",
    "* `'total_rooms'`,\n",
    "* `'total_bedrooms'`,\n",
    "* `'population'`,\n",
    "* `'households'`,\n",
    "* `'median_income'`,\n",
    "* `'median_house_value'`\n"
   ]
  },
  {
   "cell_type": "code",
   "execution_count": 6,
   "id": "336c4e2e",
   "metadata": {
    "ExecuteTime": {
     "end_time": "2023-09-25T19:57:12.057959Z",
     "start_time": "2023-09-25T19:57:12.044959Z"
    }
   },
   "outputs": [],
   "source": [
    "df_filter = df[(df['ocean_proximity'] == '<1H OCEAN')| (df['ocean_proximity'] == 'INLAND')]\n"
   ]
  },
  {
   "cell_type": "code",
   "execution_count": 7,
   "id": "e57d803d",
   "metadata": {
    "ExecuteTime": {
     "end_time": "2023-09-25T19:57:12.073325Z",
     "start_time": "2023-09-25T19:57:12.058974Z"
    }
   },
   "outputs": [],
   "source": [
    "cols =  ['latitude',\n",
    "        'longitude',\n",
    "        'housing_median_age', \n",
    "        'total_rooms', \n",
    "        'total_bedrooms', \n",
    "        'population',\n",
    "        'households', \n",
    "        'median_income', \n",
    "        'median_house_value']"
   ]
  },
  {
   "cell_type": "code",
   "execution_count": 8,
   "id": "061f3d41",
   "metadata": {
    "ExecuteTime": {
     "end_time": "2023-09-25T19:57:12.082054Z",
     "start_time": "2023-09-25T19:57:12.074345Z"
    }
   },
   "outputs": [],
   "source": [
    "df_new = df_filter[cols].reset_index(drop=True)"
   ]
  },
  {
   "cell_type": "code",
   "execution_count": 9,
   "id": "53dbce69",
   "metadata": {
    "ExecuteTime": {
     "end_time": "2023-09-25T19:57:12.107835Z",
     "start_time": "2023-09-25T19:57:12.083823Z"
    }
   },
   "outputs": [
    {
     "data": {
      "text/html": [
       "<div>\n",
       "<style scoped>\n",
       "    .dataframe tbody tr th:only-of-type {\n",
       "        vertical-align: middle;\n",
       "    }\n",
       "\n",
       "    .dataframe tbody tr th {\n",
       "        vertical-align: top;\n",
       "    }\n",
       "\n",
       "    .dataframe thead th {\n",
       "        text-align: right;\n",
       "    }\n",
       "</style>\n",
       "<table border=\"1\" class=\"dataframe\">\n",
       "  <thead>\n",
       "    <tr style=\"text-align: right;\">\n",
       "      <th></th>\n",
       "      <th>latitude</th>\n",
       "      <th>longitude</th>\n",
       "      <th>housing_median_age</th>\n",
       "      <th>total_rooms</th>\n",
       "      <th>total_bedrooms</th>\n",
       "      <th>population</th>\n",
       "      <th>households</th>\n",
       "      <th>median_income</th>\n",
       "      <th>median_house_value</th>\n",
       "    </tr>\n",
       "  </thead>\n",
       "  <tbody>\n",
       "    <tr>\n",
       "      <th>0</th>\n",
       "      <td>37.64</td>\n",
       "      <td>-121.97</td>\n",
       "      <td>32.0</td>\n",
       "      <td>1283.0</td>\n",
       "      <td>194.0</td>\n",
       "      <td>485.0</td>\n",
       "      <td>171.0</td>\n",
       "      <td>6.0574</td>\n",
       "      <td>431000.0</td>\n",
       "    </tr>\n",
       "    <tr>\n",
       "      <th>1</th>\n",
       "      <td>37.61</td>\n",
       "      <td>-121.99</td>\n",
       "      <td>9.0</td>\n",
       "      <td>3666.0</td>\n",
       "      <td>711.0</td>\n",
       "      <td>2341.0</td>\n",
       "      <td>703.0</td>\n",
       "      <td>4.6458</td>\n",
       "      <td>217000.0</td>\n",
       "    </tr>\n",
       "    <tr>\n",
       "      <th>2</th>\n",
       "      <td>37.57</td>\n",
       "      <td>-121.97</td>\n",
       "      <td>21.0</td>\n",
       "      <td>4342.0</td>\n",
       "      <td>783.0</td>\n",
       "      <td>2172.0</td>\n",
       "      <td>789.0</td>\n",
       "      <td>4.6146</td>\n",
       "      <td>247600.0</td>\n",
       "    </tr>\n",
       "    <tr>\n",
       "      <th>3</th>\n",
       "      <td>37.58</td>\n",
       "      <td>-121.96</td>\n",
       "      <td>15.0</td>\n",
       "      <td>3575.0</td>\n",
       "      <td>597.0</td>\n",
       "      <td>1777.0</td>\n",
       "      <td>559.0</td>\n",
       "      <td>5.7192</td>\n",
       "      <td>283500.0</td>\n",
       "    </tr>\n",
       "    <tr>\n",
       "      <th>4</th>\n",
       "      <td>37.58</td>\n",
       "      <td>-121.98</td>\n",
       "      <td>20.0</td>\n",
       "      <td>4126.0</td>\n",
       "      <td>1031.0</td>\n",
       "      <td>2079.0</td>\n",
       "      <td>975.0</td>\n",
       "      <td>3.6832</td>\n",
       "      <td>216900.0</td>\n",
       "    </tr>\n",
       "    <tr>\n",
       "      <th>...</th>\n",
       "      <td>...</td>\n",
       "      <td>...</td>\n",
       "      <td>...</td>\n",
       "      <td>...</td>\n",
       "      <td>...</td>\n",
       "      <td>...</td>\n",
       "      <td>...</td>\n",
       "      <td>...</td>\n",
       "      <td>...</td>\n",
       "    </tr>\n",
       "    <tr>\n",
       "      <th>15682</th>\n",
       "      <td>39.48</td>\n",
       "      <td>-121.09</td>\n",
       "      <td>25.0</td>\n",
       "      <td>1665.0</td>\n",
       "      <td>374.0</td>\n",
       "      <td>845.0</td>\n",
       "      <td>330.0</td>\n",
       "      <td>1.5603</td>\n",
       "      <td>78100.0</td>\n",
       "    </tr>\n",
       "    <tr>\n",
       "      <th>15683</th>\n",
       "      <td>39.49</td>\n",
       "      <td>-121.21</td>\n",
       "      <td>18.0</td>\n",
       "      <td>697.0</td>\n",
       "      <td>150.0</td>\n",
       "      <td>356.0</td>\n",
       "      <td>114.0</td>\n",
       "      <td>2.5568</td>\n",
       "      <td>77100.0</td>\n",
       "    </tr>\n",
       "    <tr>\n",
       "      <th>15684</th>\n",
       "      <td>39.43</td>\n",
       "      <td>-121.22</td>\n",
       "      <td>17.0</td>\n",
       "      <td>2254.0</td>\n",
       "      <td>485.0</td>\n",
       "      <td>1007.0</td>\n",
       "      <td>433.0</td>\n",
       "      <td>1.7000</td>\n",
       "      <td>92300.0</td>\n",
       "    </tr>\n",
       "    <tr>\n",
       "      <th>15685</th>\n",
       "      <td>39.43</td>\n",
       "      <td>-121.32</td>\n",
       "      <td>18.0</td>\n",
       "      <td>1860.0</td>\n",
       "      <td>409.0</td>\n",
       "      <td>741.0</td>\n",
       "      <td>349.0</td>\n",
       "      <td>1.8672</td>\n",
       "      <td>84700.0</td>\n",
       "    </tr>\n",
       "    <tr>\n",
       "      <th>15686</th>\n",
       "      <td>39.37</td>\n",
       "      <td>-121.24</td>\n",
       "      <td>16.0</td>\n",
       "      <td>2785.0</td>\n",
       "      <td>616.0</td>\n",
       "      <td>1387.0</td>\n",
       "      <td>530.0</td>\n",
       "      <td>2.3886</td>\n",
       "      <td>89400.0</td>\n",
       "    </tr>\n",
       "  </tbody>\n",
       "</table>\n",
       "<p>15687 rows × 9 columns</p>\n",
       "</div>"
      ],
      "text/plain": [
       "       latitude  longitude  housing_median_age  total_rooms  total_bedrooms  \\\n",
       "0         37.64    -121.97                32.0       1283.0           194.0   \n",
       "1         37.61    -121.99                 9.0       3666.0           711.0   \n",
       "2         37.57    -121.97                21.0       4342.0           783.0   \n",
       "3         37.58    -121.96                15.0       3575.0           597.0   \n",
       "4         37.58    -121.98                20.0       4126.0          1031.0   \n",
       "...         ...        ...                 ...          ...             ...   \n",
       "15682     39.48    -121.09                25.0       1665.0           374.0   \n",
       "15683     39.49    -121.21                18.0        697.0           150.0   \n",
       "15684     39.43    -121.22                17.0       2254.0           485.0   \n",
       "15685     39.43    -121.32                18.0       1860.0           409.0   \n",
       "15686     39.37    -121.24                16.0       2785.0           616.0   \n",
       "\n",
       "       population  households  median_income  median_house_value  \n",
       "0           485.0       171.0         6.0574            431000.0  \n",
       "1          2341.0       703.0         4.6458            217000.0  \n",
       "2          2172.0       789.0         4.6146            247600.0  \n",
       "3          1777.0       559.0         5.7192            283500.0  \n",
       "4          2079.0       975.0         3.6832            216900.0  \n",
       "...           ...         ...            ...                 ...  \n",
       "15682       845.0       330.0         1.5603             78100.0  \n",
       "15683       356.0       114.0         2.5568             77100.0  \n",
       "15684      1007.0       433.0         1.7000             92300.0  \n",
       "15685       741.0       349.0         1.8672             84700.0  \n",
       "15686      1387.0       530.0         2.3886             89400.0  \n",
       "\n",
       "[15687 rows x 9 columns]"
      ]
     },
     "execution_count": 9,
     "metadata": {},
     "output_type": "execute_result"
    }
   ],
   "source": [
    "df_new"
   ]
  },
  {
   "cell_type": "markdown",
   "id": "2cff51d6",
   "metadata": {},
   "source": [
    "\n",
    "## Question 1\n",
    "\n",
    "There's one feature with missing values. What is it?\n",
    "\n",
    "* `total_rooms`\n",
    "* `total_bedrooms`\n",
    "* `population`\n",
    "* `households`"
   ]
  },
  {
   "cell_type": "code",
   "execution_count": 10,
   "id": "e9e8200b",
   "metadata": {
    "ExecuteTime": {
     "end_time": "2023-09-25T19:57:12.123161Z",
     "start_time": "2023-09-25T19:57:12.111837Z"
    }
   },
   "outputs": [
    {
     "data": {
      "text/plain": [
       "latitude                0\n",
       "longitude               0\n",
       "housing_median_age      0\n",
       "total_rooms             0\n",
       "total_bedrooms        157\n",
       "population              0\n",
       "households              0\n",
       "median_income           0\n",
       "median_house_value      0\n",
       "dtype: int64"
      ]
     },
     "execution_count": 10,
     "metadata": {},
     "output_type": "execute_result"
    }
   ],
   "source": [
    "df_new.isna().sum()"
   ]
  },
  {
   "cell_type": "markdown",
   "id": "d0fc1766",
   "metadata": {
    "ExecuteTime": {
     "end_time": "2023-09-25T16:17:33.562909Z",
     "start_time": "2023-09-25T16:17:33.549399Z"
    }
   },
   "source": [
    "### Answer Question : \n",
    "\n",
    "* `total_bedrooms`  "
   ]
  },
  {
   "cell_type": "markdown",
   "id": "450b5d65",
   "metadata": {
    "ExecuteTime": {
     "end_time": "2023-09-25T16:22:23.084331Z",
     "start_time": "2023-09-25T16:22:23.075461Z"
    }
   },
   "source": [
    "## Question 2\n",
    "\n",
    "What's the median (50% percentile) for variable `'population'`?\n",
    "\n",
    "- 995\n",
    "- 1095\n",
    "- 1195\n",
    "- 1295"
   ]
  },
  {
   "cell_type": "code",
   "execution_count": 11,
   "id": "8df0be0f",
   "metadata": {
    "ExecuteTime": {
     "end_time": "2023-09-25T19:57:12.136257Z",
     "start_time": "2023-09-25T19:57:12.124161Z"
    }
   },
   "outputs": [
    {
     "data": {
      "text/plain": [
       "1195.0"
      ]
     },
     "execution_count": 11,
     "metadata": {},
     "output_type": "execute_result"
    }
   ],
   "source": [
    "df_new.population.median()"
   ]
  },
  {
   "cell_type": "markdown",
   "id": "9c198065",
   "metadata": {
    "ExecuteTime": {
     "end_time": "2023-09-25T17:33:50.349372Z",
     "start_time": "2023-09-25T17:33:50.328567Z"
    }
   },
   "source": [
    "### Answer Question \n",
    "* `1195`  "
   ]
  },
  {
   "cell_type": "markdown",
   "id": "97eef199",
   "metadata": {},
   "source": [
    "## Prepare and split the dataset\n",
    "\n",
    "* Shuffle the initial dataset, use seed `42`.\n",
    "* Split your data in train/val/test sets, with 60%/20%/20% distribution.\n",
    "* Apply the log transformation to the `median_house_value` variable using the `np.log1p()` function.\n"
   ]
  },
  {
   "cell_type": "code",
   "execution_count": 12,
   "id": "4d646aad",
   "metadata": {
    "ExecuteTime": {
     "end_time": "2023-09-25T19:57:12.667040Z",
     "start_time": "2023-09-25T19:57:12.138259Z"
    }
   },
   "outputs": [],
   "source": [
    "from sklearn.utils import shuffle"
   ]
  },
  {
   "cell_type": "code",
   "execution_count": 13,
   "id": "cfbc3197",
   "metadata": {
    "ExecuteTime": {
     "end_time": "2023-09-25T19:57:12.682523Z",
     "start_time": "2023-09-25T19:57:12.668525Z"
    }
   },
   "outputs": [],
   "source": [
    "n = len(df[cols])\n",
    "\n",
    "# get shuffled indexes to split data\n",
    "idx = np.arange(n)\n",
    "np.random.seed(42)\n",
    "np.random.shuffle(idx)\n",
    "\n",
    "# calculate each 20 percentage of dataset for val & test \n",
    "n_val = int(n * 0.2)\n",
    "n_test = int(n * 0.2)\n",
    "n_train = n - n_val - n_test\n",
    "\n",
    "# split data\n",
    "train = df[cols].iloc[idx[:n_train]]\n",
    "val = df[cols].iloc[idx[n_train:n_train+n_val]]\n",
    "test = df[cols].iloc[idx[n_train+n_val:]]\n"
   ]
  },
  {
   "cell_type": "code",
   "execution_count": 14,
   "id": "5fc29f63",
   "metadata": {
    "ExecuteTime": {
     "end_time": "2023-09-25T19:57:12.697908Z",
     "start_time": "2023-09-25T19:57:12.683513Z"
    }
   },
   "outputs": [],
   "source": [
    "train.reset_index(drop=True, inplace=True)\n",
    "val.reset_index(drop=True, inplace=True)\n",
    "test.reset_index(drop=True, inplace=True)"
   ]
  },
  {
   "cell_type": "code",
   "execution_count": 15,
   "id": "6d3f2064",
   "metadata": {
    "ExecuteTime": {
     "end_time": "2023-09-25T19:57:12.707164Z",
     "start_time": "2023-09-25T19:57:12.698908Z"
    }
   },
   "outputs": [],
   "source": [
    "y_train = np.log1p(train.median_house_value.values)\n",
    "y_val = np.log1p(val.median_house_value.values)\n",
    "y_test = np.log1p(test.median_house_value.values)"
   ]
  },
  {
   "cell_type": "code",
   "execution_count": 16,
   "id": "7cb2a75e",
   "metadata": {
    "ExecuteTime": {
     "end_time": "2023-09-25T19:57:12.715190Z",
     "start_time": "2023-09-25T19:57:12.708726Z"
    }
   },
   "outputs": [],
   "source": [
    "train.drop(['median_house_value'], axis=1, inplace=True)\n",
    "val.drop(['median_house_value'], axis=1, inplace=True)\n",
    "test.drop(['median_house_value'], axis=1, inplace=True)"
   ]
  },
  {
   "cell_type": "markdown",
   "id": "5a7813a1",
   "metadata": {},
   "source": [
    "## Question 3\n",
    "\n",
    "* We need to deal with missing values for the column from Q1.\n",
    "* We have two options: fill it with 0 or with the mean of this variable.\n",
    "* Try both options. For each, train a linear regression model without regularization using the code from the lessons.\n",
    "* For computing the mean, use the training only!\n",
    "* Use the validation dataset to evaluate the models and compare the RMSE of each option.\n",
    "* Round the RMSE scores to 2 decimal digits using `round(score, 2)`\n",
    "* Which option gives better RMSE?\n",
    "\n",
    "Options:\n",
    "\n",
    "* `With 0`\n",
    "* `With mean`\n",
    "* `Both are equally good`"
   ]
  },
  {
   "cell_type": "code",
   "execution_count": 17,
   "id": "9b171f0c",
   "metadata": {
    "ExecuteTime": {
     "end_time": "2023-09-25T19:57:12.730609Z",
     "start_time": "2023-09-25T19:57:12.716665Z"
    }
   },
   "outputs": [],
   "source": [
    "def train_linear_regression(X, y, r=0.001):\n",
    "    ones = np.ones(X.shape[0])\n",
    "    X = np.column_stack([ones, X])\n",
    "    \n",
    "    XTX = X.T.dot(X)\n",
    "    \n",
    "    XTX += r * np.eye(XTX.shape[0])\n",
    "    \n",
    "    XTX_inv = np.linalg.inv(XTX)\n",
    "    w_full = XTX_inv.dot(X.T).dot(y)\n",
    "    \n",
    "    return w_full[0], w_full[1:]"
   ]
  },
  {
   "cell_type": "code",
   "execution_count": 18,
   "id": "5ab1946b",
   "metadata": {
    "ExecuteTime": {
     "end_time": "2023-09-25T19:57:12.746530Z",
     "start_time": "2023-09-25T19:57:12.731609Z"
    }
   },
   "outputs": [],
   "source": [
    "def rmse(y_pred, y):\n",
    "    squred_error = (y - y_pred)**2\n",
    "    mse = squred_error.mean()\n",
    "    \n",
    "    return np.sqrt(mse)"
   ]
  },
  {
   "cell_type": "code",
   "execution_count": 19,
   "id": "64cf7aa7",
   "metadata": {
    "ExecuteTime": {
     "end_time": "2023-09-25T19:57:12.753121Z",
     "start_time": "2023-09-25T19:57:12.747535Z"
    }
   },
   "outputs": [],
   "source": [
    "def prepare_X(df, missing_value):\n",
    "    df = df.copy()\n",
    "    df = df.fillna(missing_value)\n",
    "    X = df.values\n",
    "    return X"
   ]
  },
  {
   "cell_type": "code",
   "execution_count": 20,
   "id": "339c9172",
   "metadata": {
    "ExecuteTime": {
     "end_time": "2023-09-25T19:57:12.764213Z",
     "start_time": "2023-09-25T19:57:12.755537Z"
    }
   },
   "outputs": [
    {
     "data": {
      "text/plain": [
       "0.33"
      ]
     },
     "execution_count": 20,
     "metadata": {},
     "output_type": "execute_result"
    }
   ],
   "source": [
    "# fill missing values in total_bedrooms feature with 0\n",
    "\n",
    "X_train = prepare_X(train, 0)\n",
    "w0, w = train_linear_regression(X_train, y_train, r=0)\n",
    "\n",
    "X_val = prepare_X(val, 0)\n",
    "y_val_pred = w0 + X_val.dot(w)\n",
    "rmse_score = round(rmse(y_val_pred, y_val), 2)\n",
    "rmse_score"
   ]
  },
  {
   "cell_type": "code",
   "execution_count": 21,
   "id": "49d619b7",
   "metadata": {
    "ExecuteTime": {
     "end_time": "2023-09-25T19:57:12.778194Z",
     "start_time": "2023-09-25T19:57:12.765245Z"
    }
   },
   "outputs": [
    {
     "data": {
      "text/plain": [
       "0.33"
      ]
     },
     "execution_count": 21,
     "metadata": {},
     "output_type": "execute_result"
    }
   ],
   "source": [
    "# fill missing values in total_bedrooms feature with 0\n",
    "\n",
    "X_train = prepare_X(train, train['total_bedrooms'].mean())\n",
    "w0, w = train_linear_regression(X_train, y_train, r=0)\n",
    "\n",
    "X_val = prepare_X(val, val['total_bedrooms'].mean())\n",
    "y_val_pred = w0 + X_val.dot(w)\n",
    "rmse_score = round(rmse(y_val_pred, y_val), 2)\n",
    "rmse_score"
   ]
  },
  {
   "cell_type": "markdown",
   "id": "97bcc6eb",
   "metadata": {
    "ExecuteTime": {
     "end_time": "2023-09-25T19:17:56.526847Z",
     "start_time": "2023-09-25T19:17:56.516460Z"
    }
   },
   "source": [
    "### Answer Question \n",
    "* `Both are equally good` "
   ]
  },
  {
   "cell_type": "markdown",
   "id": "2972f747",
   "metadata": {},
   "source": [
    "## Question 4\n",
    "\n",
    "* Now let's train a regularized linear regression.\n",
    "* For this question, fill the NAs with 0. \n",
    "* Try different values of `r` from this list: `[0, 0.000001, 0.0001, 0.001, 0.01, 0.1, 1, 5, 10]`.\n",
    "* Use RMSE to evaluate the model on the validation dataset.\n",
    "* Round the RMSE scores to 2 decimal digits.\n",
    "* Which `r` gives the best RMSE?\n",
    "\n",
    "If there are multiple options, select the smallest `r`.\n",
    "\n",
    "Options:\n",
    "\n",
    "* `0`\n",
    "* `0.000001`\n",
    "* `0.001`\n",
    "* `0.0001`\n",
    "\n"
   ]
  },
  {
   "cell_type": "code",
   "execution_count": 22,
   "id": "2a16cb43",
   "metadata": {
    "ExecuteTime": {
     "end_time": "2023-09-25T19:57:12.831686Z",
     "start_time": "2023-09-25T19:57:12.779327Z"
    },
    "scrolled": false
   },
   "outputs": [
    {
     "name": "stdout",
     "output_type": "stream",
     "text": [
      " r = 0, w0=-11.69, rmse = 0.33\n",
      " r = 1e-06, w0=-11.69, rmse = 0.33\n",
      " r = 0.0001, w0=-11.69, rmse = 0.33\n",
      " r = 0.001, w0=-11.67, rmse = 0.33\n",
      " r = 0.01, w0=-11.53, rmse = 0.33\n",
      " r = 0.1, w0=-10.27, rmse = 0.33\n",
      " r = 1, w0=-4.92, rmse = 0.33\n",
      " r = 5, w0=-1.48, rmse = 0.34\n",
      " r = 10, w0=-0.79, rmse = 0.34\n"
     ]
    }
   ],
   "source": [
    "r_params = [0, 0.000001, 0.0001, 0.001, 0.01, 0.1, 1, 5, 10]\n",
    "\n",
    "\n",
    "for r in r_params:\n",
    "    X_train = prepare_X(train, 0)\n",
    "    w0, w = train_linear_regression(X_train, y_train, r=r)\n",
    "\n",
    "    X_val = prepare_X(val, 0)\n",
    "    y_val_pred = w0 + X_val.dot(w)\n",
    "    rmse_score = round(rmse(y_val_pred, y_val),2)\n",
    "    print(f\" r = {r}, w0={round(w0,2)}, rmse = {rmse_score}\")"
   ]
  },
  {
   "cell_type": "markdown",
   "id": "ce9223a7",
   "metadata": {
    "ExecuteTime": {
     "end_time": "2023-09-25T19:19:56.273417Z",
     "start_time": "2023-09-25T19:19:56.264663Z"
    }
   },
   "source": [
    "### Answer Question \n",
    "* `0.001` "
   ]
  },
  {
   "cell_type": "markdown",
   "id": "c7f6760f",
   "metadata": {
    "ExecuteTime": {
     "end_time": "2023-09-25T16:24:20.221717Z",
     "start_time": "2023-09-25T16:24:20.213204Z"
    }
   },
   "source": [
    "\n",
    "## Question 5 \n",
    "\n",
    "* We used seed 42 for splitting the data. Let's find out how selecting the seed influences our score.\n",
    "* Try different seed values: `[0, 1, 2, 3, 4, 5, 6, 7, 8, 9]`.\n",
    "* For each seed, do the train/validation/test split with 60%/20%/20% distribution.\n",
    "* Fill the missing values with 0 and train a model without regularization.\n",
    "* For each seed, evaluate the model on the validation dataset and collect the RMSE scores. \n",
    "* What's the standard deviation of all the scores? To compute the standard deviation, use `np.std`.\n",
    "* Round the result to 3 decimal digits (`round(std, 3)`)\n",
    "\n",
    "What's the value of std?\n",
    "\n",
    "* `0.5`\n",
    "* `0.05`\n",
    "* `0.005`\n",
    "* `0.0005`\n",
    "\n",
    "> Note: Standard deviation shows how different the values are.\n",
    "> If it's low, then all values are approximately the same.\n",
    "> If it's high, the values are different. \n",
    "> If standard deviation of scores is low, then our model is *stable*.\n",
    "\n",
    "\n"
   ]
  },
  {
   "cell_type": "code",
   "execution_count": 23,
   "id": "88b770af",
   "metadata": {
    "ExecuteTime": {
     "end_time": "2023-09-25T19:57:12.934794Z",
     "start_time": "2023-09-25T19:57:12.833714Z"
    },
    "scrolled": true
   },
   "outputs": [
    {
     "name": "stdout",
     "output_type": "stream",
     "text": [
      "seed = 0, rmse = 0.3375383126870338\n",
      "seed = 1, rmse = 0.3379506305306756\n",
      "seed = 2, rmse = 0.3482246862118704\n",
      "seed = 3, rmse = 0.33699107122475214\n",
      "seed = 4, rmse = 0.3366639584843802\n",
      "seed = 5, rmse = 0.3357549567642569\n",
      "seed = 6, rmse = 0.34251039033484465\n",
      "seed = 7, rmse = 0.3460651298796053\n",
      "seed = 8, rmse = 0.34835762061745223\n",
      "seed = 9, rmse = 0.34569923171766176\n"
     ]
    },
    {
     "data": {
      "text/plain": [
       "0.005"
      ]
     },
     "execution_count": 23,
     "metadata": {},
     "output_type": "execute_result"
    }
   ],
   "source": [
    "rmse_scores = []\n",
    "seeds = [0, 1, 2, 3, 4, 5, 6, 7, 8, 9]\n",
    "for seed in seeds:\n",
    "\n",
    "    n = len(df[cols])\n",
    "\n",
    "    # get shuffled indexes to split data\n",
    "    idx = np.arange(n)\n",
    "    np.random.seed(seed)\n",
    "    np.random.shuffle(idx)\n",
    "\n",
    "    # calculate each 20 percentage of dataset for val & test \n",
    "    n_val = int(n * 0.2)\n",
    "    n_test = int(n * 0.2)\n",
    "    n_train = n - n_val - n_test\n",
    "\n",
    "    # split data\n",
    "    train = df[cols].iloc[idx[:n_train]]\n",
    "    test = df[cols].iloc[idx[n_train:n_train+n_test]]\n",
    "    val = df[cols].iloc[idx[n_train+n_test:]]\n",
    "\n",
    "\n",
    "    # get target columns\n",
    "    y_train = np.log1p(train['median_house_value'].values)\n",
    "    y_val = np.log1p(val['median_house_value'].values)\n",
    "    y_test = np.log1p(test['median_house_value'].values)\n",
    "\n",
    "    del train['median_house_value']\n",
    "    del val['median_house_value']\n",
    "    del test['median_house_value']\n",
    "    \n",
    "    \n",
    "    X_train = prepare_X(train, missing_value=0)\n",
    "    w0, w = train_linear_regression(X_train, y_train, r=0)\n",
    "\n",
    "    X_val = prepare_X(val, missing_value=0)\n",
    "    y_val_pred = w0 + X_val.dot(w)\n",
    "    rmse_score = rmse(y_val_pred, y_val)\n",
    "    print(f\"seed = {seed}, rmse = {rmse_score}\")\n",
    "    \n",
    "    rmse_scores.append(rmse_score)\n",
    "\n",
    "std = round(np.std(np.array(rmse_scores)), 3)\n",
    "std"
   ]
  },
  {
   "cell_type": "markdown",
   "id": "24f2ad93",
   "metadata": {
    "ExecuteTime": {
     "end_time": "2023-09-25T19:53:47.246819Z",
     "start_time": "2023-09-25T19:53:47.240744Z"
    }
   },
   "source": [
    "### Answer Question \n",
    "* `0.005` "
   ]
  },
  {
   "cell_type": "markdown",
   "id": "eab8406c",
   "metadata": {
    "ExecuteTime": {
     "end_time": "2023-09-25T16:24:33.487599Z",
     "start_time": "2023-09-25T16:24:33.467656Z"
    }
   },
   "source": [
    "## Question 6\n",
    "\n",
    "* Split the dataset like previously, use seed 9.\n",
    "* Combine train and validation datasets.\n",
    "* Fill the missing values with 0 and train a model with `r=0.001`. \n",
    "* What's the RMSE on the test dataset?\n",
    "\n",
    "Options:\n",
    "\n",
    "* `0.13`\n",
    "* `0.23`\n",
    "* `0.33`\n",
    "* `0.43`"
   ]
  },
  {
   "cell_type": "code",
   "execution_count": 24,
   "id": "660fbbe6",
   "metadata": {
    "ExecuteTime": {
     "end_time": "2023-09-25T19:57:12.959585Z",
     "start_time": "2023-09-25T19:57:12.935379Z"
    }
   },
   "outputs": [
    {
     "name": "stdout",
     "output_type": "stream",
     "text": [
      "rmse = 0.33616780318856515\n"
     ]
    }
   ],
   "source": [
    "n = len(df[cols])\n",
    "seed = 9\n",
    "    \n",
    "# get shuffled indexes to split data\n",
    "idx = np.arange(n)\n",
    "np.random.seed(seed)\n",
    "np.random.shuffle(idx)\n",
    "\n",
    "# calculate each 20 percentage of dataset for val & test \n",
    "n_val = int(n * 0.2)\n",
    "n_test = int(n * 0.2)\n",
    "n_train = n - n_val - n_test\n",
    "\n",
    "# split data\n",
    "train = df[cols].iloc[idx[:n_train]]\n",
    "test = df[cols].iloc[idx[n_train:n_train+n_test]]\n",
    "val = df[cols].iloc[idx[n_train+n_test:]]\n",
    "\n",
    "# get target columns\n",
    "y_train = np.log1p(train['median_house_value'].values)\n",
    "y_val = np.log1p(val['median_house_value'].values)\n",
    "y_test = np.log1p(test['median_house_value'].values)\n",
    "\n",
    "del train['median_house_value']\n",
    "del val['median_house_value']\n",
    "del test['median_house_value']\n",
    "    \n",
    "train_append = pd.concat([train,val])\n",
    "y_train_append = np.append(y_train, y_val)\n",
    "    \n",
    "X_train_append = prepare_X(train_append, missing_value=0)\n",
    "w0, w = train_linear_regression(X_train_append, y_train_append, r=0.001)\n",
    "\n",
    "X_test = prepare_X(test, 0)\n",
    "y_test_pred = w0 + X_test.dot(w)\n",
    "rmse_score = rmse(y_test_pred, y_test)\n",
    "print(f\"rmse = {rmse_score}\")\n",
    "    "
   ]
  },
  {
   "cell_type": "markdown",
   "id": "6a646b2a",
   "metadata": {},
   "source": [
    "### Answer Question \n",
    "* `0.33` "
   ]
  },
  {
   "cell_type": "code",
   "execution_count": null,
   "id": "9ee2316c",
   "metadata": {},
   "outputs": [],
   "source": []
  }
 ],
 "metadata": {
  "kernelspec": {
   "display_name": "Python 3 (ipykernel)",
   "language": "python",
   "name": "python3"
  },
  "language_info": {
   "codemirror_mode": {
    "name": "ipython",
    "version": 3
   },
   "file_extension": ".py",
   "mimetype": "text/x-python",
   "name": "python",
   "nbconvert_exporter": "python",
   "pygments_lexer": "ipython3",
   "version": "3.9.18"
  },
  "toc": {
   "base_numbering": 1,
   "nav_menu": {},
   "number_sections": true,
   "sideBar": true,
   "skip_h1_title": false,
   "title_cell": "Table of Contents",
   "title_sidebar": "Contents",
   "toc_cell": false,
   "toc_position": {},
   "toc_section_display": true,
   "toc_window_display": false
  }
 },
 "nbformat": 4,
 "nbformat_minor": 5
}
